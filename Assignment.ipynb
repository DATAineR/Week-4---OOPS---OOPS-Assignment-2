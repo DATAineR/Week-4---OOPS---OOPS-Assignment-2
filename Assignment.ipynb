{
 "cells": [
  {
   "cell_type": "markdown",
   "id": "767fcbc8-9ac7-4e21-a434-d53ced707067",
   "metadata": {},
   "source": [
    "Q1. What is Abstraction in Oops? Explain with an example.\n"
   ]
  },
  {
   "cell_type": "markdown",
   "id": "901205e9-c85b-4622-93b7-f20651bd2ad9",
   "metadata": {},
   "source": [
    "\n",
    "Abstraction in object-oriented programming (OOP) refers to the concept of simplifying complex systems by modeling classes based on essential properties and behaviors while ignoring non-essential details. It involves creating a high-level view of an object, focusing on what an object does rather than how it achieves its functionality. Abstraction allows developers to work with relevant details and hide the unnecessary complexities.\n",
    "\n",
    "In Python, abstraction is often achieved through the use of abstract classes and abstract methods. Abstract classes cannot be instantiated, and they may have abstract methods that must be implemented by concrete subclasses."
   ]
  },
  {
   "cell_type": "code",
   "execution_count": 1,
   "id": "7920025f-f325-428f-9594-814ae7b615f3",
   "metadata": {},
   "outputs": [
    {
     "name": "stdout",
     "output_type": "stream",
     "text": [
      "Drawing a circle\n",
      "Drawing a square\n"
     ]
    }
   ],
   "source": [
    "from abc import ABC, abstractmethod\n",
    "\n",
    "# Abstract class with an abstract method\n",
    "class Shape(ABC):\n",
    "    @abstractmethod\n",
    "    def draw(self):\n",
    "        pass\n",
    "\n",
    "# Concrete subclass implementing the abstract method\n",
    "class Circle(Shape):\n",
    "    def draw(self):\n",
    "        print(\"Drawing a circle\")\n",
    "\n",
    "# Concrete subclass implementing the abstract method\n",
    "class Square(Shape):\n",
    "    def draw(self):\n",
    "        print(\"Drawing a square\")\n",
    "\n",
    "# Example usage\n",
    "circle = Circle()\n",
    "circle.draw()  # Output: Drawing a circle\n",
    "\n",
    "square = Square()\n",
    "square.draw()  # Output: Drawing a square\n"
   ]
  },
  {
   "cell_type": "markdown",
   "id": "f38fb28f-9d5f-4337-b831-50e550b7cdcd",
   "metadata": {},
   "source": [
    "In this example:\n",
    "\n",
    "The Shape class is an abstract class with an abstract method draw.\n",
    "\n",
    "The Circle and Square classes are concrete subclasses that inherit from the abstract class Shape and provide concrete implementations for the abstract method draw.\n",
    "\n",
    "Instances of Circle and Square can be created and can invoke the draw method.\n",
    "\n",
    "Abstraction allows us to create a common interface (draw method) for different shapes without specifying how each shape achieves its drawing functionality. It focuses on the essential behavior shared by all shapes, providing a high-level view of the concept of a shape in the system."
   ]
  },
  {
   "cell_type": "markdown",
   "id": "d7b3d168-17d3-4aaf-ba99-797a4699691f",
   "metadata": {},
   "source": [
    "Q2. Differentiate between Abstraction and Encapsulation. Explain with an example.\n"
   ]
  },
  {
   "cell_type": "markdown",
   "id": "38bcc0ca-3a21-4f8a-99c1-f8e2149808a7",
   "metadata": {},
   "source": [
    "Abstraction:\n",
    "\n",
    "Abstraction refers to the concept of simplifying complex systems by modeling classes based on essential properties and behaviors while ignoring non-essential details.\n",
    "It involves creating a high-level view of an object, focusing on what an object does rather than how it achieves its functionality.\n",
    "Abstraction is often achieved using abstract classes and abstract methods, allowing the creation of a common interface for related classes."
   ]
  },
  {
   "cell_type": "code",
   "execution_count": 3,
   "id": "4b4d3b24-81b4-4101-b8bd-03662a5af1b4",
   "metadata": {},
   "outputs": [
    {
     "name": "stdout",
     "output_type": "stream",
     "text": [
      "Drawing a circle\n",
      "Drawing a square\n"
     ]
    }
   ],
   "source": [
    "from abc import ABC, abstractmethod\n",
    "\n",
    "class Shape(ABC):\n",
    "    @abstractmethod\n",
    "    def draw(self):\n",
    "        pass\n",
    "\n",
    "class Circle(Shape):\n",
    "    def draw(self):\n",
    "        print(\"Drawing a circle\")\n",
    "\n",
    "class Square(Shape):\n",
    "    def draw(self):\n",
    "        print(\"Drawing a square\")\n",
    "\n",
    "circle = Circle()\n",
    "circle.draw()  # Output: Drawing a circle\n",
    "\n",
    "square = Square()\n",
    "square.draw()  # Output: Drawing a square\n"
   ]
  },
  {
   "cell_type": "markdown",
   "id": "82ac6d73-3c95-44a8-988d-4804fa8fc3b9",
   "metadata": {},
   "source": [
    "Encapsulation:\n",
    "\n",
    "Encapsulation is the bundling of data (attributes) and the methods (functions) that operate on the data into a single unit called a class.\n",
    "It helps in hiding the internal implementation details of an object from the outside world and allows controlled access to the data through methods.\n",
    "Encapsulation provides a way to protect the integrity of the data and prevent unauthorized access or modification."
   ]
  },
  {
   "cell_type": "code",
   "execution_count": 4,
   "id": "5b83f64d-9bd1-49ff-89e2-c15fb27a03e7",
   "metadata": {},
   "outputs": [
    {
     "name": "stdout",
     "output_type": "stream",
     "text": [
      "Initial Balance: 1000\n",
      "After Deposit: 1500\n",
      "After Withdrawal: 700\n"
     ]
    }
   ],
   "source": [
    "class BankAccount:\n",
    "    def __init__(self, account_number, balance):\n",
    "        self.__account_number = account_number  # Encapsulation: Private attribute\n",
    "        self.__balance = balance                # Encapsulation: Private attribute\n",
    "\n",
    "    def get_balance(self):\n",
    "        return self.__balance\n",
    "\n",
    "    def deposit(self, amount):\n",
    "        if amount > 0:\n",
    "            self.__balance += amount\n",
    "\n",
    "    def withdraw(self, amount):\n",
    "        if 0 < amount <= self.__balance:\n",
    "            self.__balance -= amount\n",
    "\n",
    "# Example usage\n",
    "account = BankAccount(account_number=123456, balance=1000)\n",
    "print(\"Initial Balance:\", account.get_balance())  # Output: Initial Balance: 1000\n",
    "\n",
    "account.deposit(500)\n",
    "print(\"After Deposit:\", account.get_balance())    # Output: After Deposit: 1500\n",
    "\n",
    "account.withdraw(800)\n",
    "print(\"After Withdrawal:\", account.get_balance())  # Output: After Withdrawal: 700\n"
   ]
  },
  {
   "cell_type": "markdown",
   "id": "d72d21bc-d1d0-46db-af8d-5e7b44d70805",
   "metadata": {},
   "source": [
    "Q3. What is abc module in python? Why is it used?\n",
    "\n"
   ]
  },
  {
   "cell_type": "markdown",
   "id": "dce3dd68-6de8-4537-9c9d-568435e45e16",
   "metadata": {},
   "source": [
    "\n",
    "The abc module in Python stands for \"Abstract Base Classes.\" It provides a way to define abstract classes and abstract methods, enforcing a structure on derived classes. Abstract classes are classes that cannot be instantiated and may contain one or more abstract methods that must be implemented by concrete (non-abstract) subclasses."
   ]
  },
  {
   "cell_type": "markdown",
   "id": "3b0aaad9-6b5f-477d-a194-432049073cdf",
   "metadata": {},
   "source": [
    "Key components of the abc module:\n",
    "\n",
    "1. ABC (Abstract Base Class):\n",
    "\n",
    "The ABC is a metaclass provided by the abc module. Classes that inherit from ABC become abstract classes, and any method decorated with @abstractmethod within those classes becomes an abstract method.\n",
    "\n",
    "2. Abstractmethod decorator:\n",
    "\n",
    "The @abstractmethod decorator is used to define abstract methods within abstract classes. Subclasses must provide concrete implementations for these abstract methods."
   ]
  },
  {
   "cell_type": "code",
   "execution_count": 5,
   "id": "82d54000-88b9-4bad-8669-93516ee376ca",
   "metadata": {},
   "outputs": [
    {
     "name": "stdout",
     "output_type": "stream",
     "text": [
      "Area of Circle: 78.5\n",
      "Area of Square: 16\n"
     ]
    }
   ],
   "source": [
    "from abc import ABC, abstractmethod\n",
    "\n",
    "# Abstract class with an abstract method\n",
    "class Shape(ABC):\n",
    "    @abstractmethod\n",
    "    def area(self):\n",
    "        pass\n",
    "\n",
    "# Concrete subclass implementing the abstract method\n",
    "class Circle(Shape):\n",
    "    def __init__(self, radius):\n",
    "        self.radius = radius\n",
    "\n",
    "    def area(self):\n",
    "        return 3.14 * self.radius * self.radius\n",
    "\n",
    "# Concrete subclass implementing the abstract method\n",
    "class Square(Shape):\n",
    "    def __init__(self, side_length):\n",
    "        self.side_length = side_length\n",
    "\n",
    "    def area(self):\n",
    "        return self.side_length * self.side_length\n",
    "\n",
    "# Example usage\n",
    "circle = Circle(radius=5)\n",
    "square = Square(side_length=4)\n",
    "\n",
    "print(\"Area of Circle:\", circle.area())  # Output: Area of Circle: 78.5\n",
    "print(\"Area of Square:\", square.area())  # Output: Area of Square: 16\n"
   ]
  },
  {
   "cell_type": "markdown",
   "id": "0e9d9f12-9ff1-4b5a-8d36-3d228645a5c5",
   "metadata": {},
   "source": [
    "In this example:\n",
    "\n",
    "The Shape class is an abstract class with an abstract method area.\n",
    "\n",
    "The Circle and Square classes are concrete subclasses that inherit from Shape and provide concrete implementations for the area method.\n",
    "\n",
    "Instances of Circle and Square can be created and can invoke the area method.\n",
    "\n",
    "The abc module is used to enforce a certain structure in class hierarchies, ensuring that subclasses adhere to a specified interface. It helps in achieving abstraction by allowing the definition of abstract classes and abstract methods, promoting code clarity and maintainability."
   ]
  },
  {
   "cell_type": "markdown",
   "id": "57043501-0650-4b30-bfd6-bfea6b55e829",
   "metadata": {},
   "source": [
    "Q4. How can we achieve data abstraction?\n"
   ]
  },
  {
   "cell_type": "markdown",
   "id": "b3a7a553-60bd-4ac6-8c58-21c4e098c3c4",
   "metadata": {},
   "source": [
    "\n",
    "Data abstraction in programming refers to the concept of hiding the complex implementation details of data and exposing only the relevant features or functionalities. In Python, data abstraction is often achieved using classes and encapsulation. "
   ]
  },
  {
   "cell_type": "markdown",
   "id": "d558e404-6a96-4db6-9129-20babf8974ef",
   "metadata": {},
   "source": [
    "Here are the key steps to achieve data abstraction:"
   ]
  },
  {
   "cell_type": "markdown",
   "id": "64d0e067-a27b-4d92-b1e6-7a05035bcccb",
   "metadata": {},
   "source": [
    "1. Define a Class:\n",
    "\n",
    "Create a class that represents the abstract data type you want to model. This class will encapsulate the data and methods related to that data.\n",
    "\n",
    "2. Encapsulation:\n",
    "\n",
    "Encapsulate the data within the class by making attributes private. This is typically done by prefixing attribute names with double underscores (__), making them private and accessible only within the class.\n",
    "\n",
    "3. Provide Public Methods:\n",
    "\n",
    "Define public methods (also known as getter and setter methods) within the class to allow controlled access to the encapsulated data. These methods act as an interface for interacting with the data."
   ]
  },
  {
   "cell_type": "code",
   "execution_count": 7,
   "id": "e18f6029-cd0a-4372-a258-cad9f2e77be4",
   "metadata": {},
   "outputs": [
    {
     "name": "stdout",
     "output_type": "stream",
     "text": [
      "Account Number: 123456\n",
      "Initial Balance: 1000\n",
      "Updated Balance: 1500\n",
      "After Deposit: 2000\n",
      "After Withdrawal: 1200\n"
     ]
    }
   ],
   "source": [
    "class BankAccount:\n",
    "    def __init__(self, account_number, balance):\n",
    "        # Encapsulation: Private attributes\n",
    "        self.__account_number = account_number\n",
    "        self.__balance = balance\n",
    "\n",
    "    # Getter method for account number\n",
    "    def get_account_number(self):\n",
    "        return self.__account_number\n",
    "\n",
    "    # Getter method for balance\n",
    "    def get_balance(self):\n",
    "        return self.__balance\n",
    "\n",
    "    # Setter method for balance\n",
    "    def set_balance(self, new_balance):\n",
    "        if new_balance >= 0:\n",
    "            self.__balance = new_balance\n",
    "\n",
    "    # Method to deposit money\n",
    "    def deposit(self, amount):\n",
    "        if amount > 0:\n",
    "            self.__balance += amount\n",
    "\n",
    "    # Method to withdraw money\n",
    "    def withdraw(self, amount):\n",
    "        if 0 < amount <= self.__balance:\n",
    "            self.__balance -= amount\n",
    "\n",
    "# Example usage\n",
    "account = BankAccount(account_number=123456, balance=1000)\n",
    "\n",
    "# Accessing data using getter methods\n",
    "print(\"Account Number:\", account.get_account_number())  # Output: Account Number: 123456\n",
    "print(\"Initial Balance:\", account.get_balance())        # Output: Initial Balance: 1000\n",
    "\n",
    "# Modifying data using setter method\n",
    "account.set_balance(1500)\n",
    "print(\"Updated Balance:\", account.get_balance())        # Output: Updated Balance: 1500\n",
    "\n",
    "# Performing operations using public methods\n",
    "account.deposit(500)\n",
    "print(\"After Deposit:\", account.get_balance())          # Output: After Deposit: 2000\n",
    "\n",
    "account.withdraw(800)\n",
    "print(\"After Withdrawal:\", account.get_balance())       # Output: After Withdrawal: 1200\n"
   ]
  },
  {
   "cell_type": "markdown",
   "id": "6fa04a9c-47e8-423d-b43c-94e41efa7544",
   "metadata": {},
   "source": [
    "In this example, the BankAccount class encapsulates the account details, making the attributes (__account_number and __balance) private. Public methods (get_account_number, get_balance, set_balance, deposit, withdraw) provide controlled access to the encapsulated data, achieving data abstraction. The internal details of how the balance is managed are hidden, and users interact with the class through the defined interface."
   ]
  },
  {
   "cell_type": "markdown",
   "id": "b53b31a7-d282-4d24-80ed-b7b0a6d56a73",
   "metadata": {},
   "source": [
    "Q5. Can we create an instance of an abstract class? Explain your answer.\n"
   ]
  },
  {
   "cell_type": "markdown",
   "id": "143adc3b-cab7-44cc-a715-7562da6eaaac",
   "metadata": {},
   "source": [
    "\n",
    "No, you cannot create an instance of an abstract class in Python. Abstract classes are designed to be incomplete and are meant to be subclassed. They cannot be instantiated directly because they may contain one or more abstract methods that have no implementation in the abstract class itself.\n",
    "\n",
    "In Python, abstract classes are typically created using the ABC (Abstract Base Class) metaclass from the abc module. Abstract methods within these classes are marked with the @abstractmethod decorator, indicating that concrete subclasses must provide implementations for these methods."
   ]
  },
  {
   "cell_type": "code",
   "execution_count": 8,
   "id": "6436f764-7c74-4005-a264-f58e96dfe59b",
   "metadata": {},
   "outputs": [
    {
     "name": "stdout",
     "output_type": "stream",
     "text": [
      "TypeError: Can't instantiate abstract class Shape with abstract method area\n"
     ]
    }
   ],
   "source": [
    "from abc import ABC, abstractmethod\n",
    "\n",
    "# Abstract class with an abstract method\n",
    "class Shape(ABC):\n",
    "    @abstractmethod\n",
    "    def area(self):\n",
    "        pass\n",
    "\n",
    "# Attempt to create an instance of the abstract class (will raise an error)\n",
    "try:\n",
    "    shape = Shape()  # This will raise TypeError\n",
    "except TypeError as e:\n",
    "    print(f\"TypeError: {e}\")\n"
   ]
  },
  {
   "cell_type": "markdown",
   "id": "f0461c57-3659-4f5e-aba4-42c013952121",
   "metadata": {},
   "source": [
    "In this example, attempting to create an instance of the Shape class results in a TypeError because Shape is an abstract class with an abstract method (area). Abstract classes are meant to be subclassed, and instances are created from concrete subclasses that provide implementations for the abstract methods.\n",
    "\n",
    "To use the functionality defined in an abstract class, you need to create a concrete subclass that inherits from the abstract class and provides implementations for all the abstract methods. Instances of the concrete subclass can then be created and used."
   ]
  },
  {
   "cell_type": "code",
   "execution_count": null,
   "id": "981e66c7-62c0-43a9-aa67-e06a51ef911c",
   "metadata": {},
   "outputs": [],
   "source": []
  }
 ],
 "metadata": {
  "kernelspec": {
   "display_name": "Python 3 (ipykernel)",
   "language": "python",
   "name": "python3"
  },
  "language_info": {
   "codemirror_mode": {
    "name": "ipython",
    "version": 3
   },
   "file_extension": ".py",
   "mimetype": "text/x-python",
   "name": "python",
   "nbconvert_exporter": "python",
   "pygments_lexer": "ipython3",
   "version": "3.11.7"
  }
 },
 "nbformat": 4,
 "nbformat_minor": 5
}
